{
  "nbformat": 4,
  "nbformat_minor": 2,
  "metadata": {
    "colab": {
      "name": "3a.ipynb",
      "provenance": []
    },
    "kernelspec": {
      "name": "python3",
      "display_name": "Python 3"
    },
    "widgets": {
      "application/vnd.jupyter.widget-state+json": {
        "ff7de37679cc4c22842bb90de95f254d": {
          "model_module": "@jupyter-widgets/controls",
          "model_name": "HBoxModel",
          "model_module_version": "1.5.0",
          "state": {
            "_dom_classes": [],
            "_model_module": "@jupyter-widgets/controls",
            "_model_module_version": "1.5.0",
            "_model_name": "HBoxModel",
            "_view_count": null,
            "_view_module": "@jupyter-widgets/controls",
            "_view_module_version": "1.5.0",
            "_view_name": "HBoxView",
            "box_style": "",
            "children": [
              "IPY_MODEL_123e4bcf918b4e99b72a83d77e06bbad",
              "IPY_MODEL_82307d2c25dc4ddeabccfe11bccaca51",
              "IPY_MODEL_8b84b40f14fe48b18594ce6afa17ae0d"
            ],
            "layout": "IPY_MODEL_654946f9f3c84be387c499febfa0f72a"
          }
        },
        "123e4bcf918b4e99b72a83d77e06bbad": {
          "model_module": "@jupyter-widgets/controls",
          "model_name": "HTMLModel",
          "model_module_version": "1.5.0",
          "state": {
            "_dom_classes": [],
            "_model_module": "@jupyter-widgets/controls",
            "_model_module_version": "1.5.0",
            "_model_name": "HTMLModel",
            "_view_count": null,
            "_view_module": "@jupyter-widgets/controls",
            "_view_module_version": "1.5.0",
            "_view_name": "HTMLView",
            "description": "",
            "description_tooltip": null,
            "layout": "IPY_MODEL_9e1648ae0850450f849368f63eab72d6",
            "placeholder": "​",
            "style": "IPY_MODEL_631a1913c95145b9b01fd0ee3cfdd956",
            "value": ""
          }
        },
        "82307d2c25dc4ddeabccfe11bccaca51": {
          "model_module": "@jupyter-widgets/controls",
          "model_name": "FloatProgressModel",
          "model_module_version": "1.5.0",
          "state": {
            "_dom_classes": [],
            "_model_module": "@jupyter-widgets/controls",
            "_model_module_version": "1.5.0",
            "_model_name": "FloatProgressModel",
            "_view_count": null,
            "_view_module": "@jupyter-widgets/controls",
            "_view_module_version": "1.5.0",
            "_view_name": "ProgressView",
            "bar_style": "success",
            "description": "",
            "description_tooltip": null,
            "layout": "IPY_MODEL_4d2060b376fe4203950d9ceb04b95bc7",
            "max": 170498071,
            "min": 0,
            "orientation": "horizontal",
            "style": "IPY_MODEL_cce965d54e8745a29c5f6eab5f011d98",
            "value": 170498071
          }
        },
        "8b84b40f14fe48b18594ce6afa17ae0d": {
          "model_module": "@jupyter-widgets/controls",
          "model_name": "HTMLModel",
          "model_module_version": "1.5.0",
          "state": {
            "_dom_classes": [],
            "_model_module": "@jupyter-widgets/controls",
            "_model_module_version": "1.5.0",
            "_model_name": "HTMLModel",
            "_view_count": null,
            "_view_module": "@jupyter-widgets/controls",
            "_view_module_version": "1.5.0",
            "_view_name": "HTMLView",
            "description": "",
            "description_tooltip": null,
            "layout": "IPY_MODEL_af7b6eab14d942c99a7eb79fcb41441e",
            "placeholder": "​",
            "style": "IPY_MODEL_b9e8ffb89d744ab79d08f8a99a1cb17c",
            "value": " 170499072/? [00:11&lt;00:00, 17096662.27it/s]"
          }
        },
        "654946f9f3c84be387c499febfa0f72a": {
          "model_module": "@jupyter-widgets/base",
          "model_name": "LayoutModel",
          "model_module_version": "1.2.0",
          "state": {
            "_model_module": "@jupyter-widgets/base",
            "_model_module_version": "1.2.0",
            "_model_name": "LayoutModel",
            "_view_count": null,
            "_view_module": "@jupyter-widgets/base",
            "_view_module_version": "1.2.0",
            "_view_name": "LayoutView",
            "align_content": null,
            "align_items": null,
            "align_self": null,
            "border": null,
            "bottom": null,
            "display": null,
            "flex": null,
            "flex_flow": null,
            "grid_area": null,
            "grid_auto_columns": null,
            "grid_auto_flow": null,
            "grid_auto_rows": null,
            "grid_column": null,
            "grid_gap": null,
            "grid_row": null,
            "grid_template_areas": null,
            "grid_template_columns": null,
            "grid_template_rows": null,
            "height": null,
            "justify_content": null,
            "justify_items": null,
            "left": null,
            "margin": null,
            "max_height": null,
            "max_width": null,
            "min_height": null,
            "min_width": null,
            "object_fit": null,
            "object_position": null,
            "order": null,
            "overflow": null,
            "overflow_x": null,
            "overflow_y": null,
            "padding": null,
            "right": null,
            "top": null,
            "visibility": null,
            "width": null
          }
        },
        "9e1648ae0850450f849368f63eab72d6": {
          "model_module": "@jupyter-widgets/base",
          "model_name": "LayoutModel",
          "model_module_version": "1.2.0",
          "state": {
            "_model_module": "@jupyter-widgets/base",
            "_model_module_version": "1.2.0",
            "_model_name": "LayoutModel",
            "_view_count": null,
            "_view_module": "@jupyter-widgets/base",
            "_view_module_version": "1.2.0",
            "_view_name": "LayoutView",
            "align_content": null,
            "align_items": null,
            "align_self": null,
            "border": null,
            "bottom": null,
            "display": null,
            "flex": null,
            "flex_flow": null,
            "grid_area": null,
            "grid_auto_columns": null,
            "grid_auto_flow": null,
            "grid_auto_rows": null,
            "grid_column": null,
            "grid_gap": null,
            "grid_row": null,
            "grid_template_areas": null,
            "grid_template_columns": null,
            "grid_template_rows": null,
            "height": null,
            "justify_content": null,
            "justify_items": null,
            "left": null,
            "margin": null,
            "max_height": null,
            "max_width": null,
            "min_height": null,
            "min_width": null,
            "object_fit": null,
            "object_position": null,
            "order": null,
            "overflow": null,
            "overflow_x": null,
            "overflow_y": null,
            "padding": null,
            "right": null,
            "top": null,
            "visibility": null,
            "width": null
          }
        },
        "631a1913c95145b9b01fd0ee3cfdd956": {
          "model_module": "@jupyter-widgets/controls",
          "model_name": "DescriptionStyleModel",
          "model_module_version": "1.5.0",
          "state": {
            "_model_module": "@jupyter-widgets/controls",
            "_model_module_version": "1.5.0",
            "_model_name": "DescriptionStyleModel",
            "_view_count": null,
            "_view_module": "@jupyter-widgets/base",
            "_view_module_version": "1.2.0",
            "_view_name": "StyleView",
            "description_width": ""
          }
        },
        "4d2060b376fe4203950d9ceb04b95bc7": {
          "model_module": "@jupyter-widgets/base",
          "model_name": "LayoutModel",
          "model_module_version": "1.2.0",
          "state": {
            "_model_module": "@jupyter-widgets/base",
            "_model_module_version": "1.2.0",
            "_model_name": "LayoutModel",
            "_view_count": null,
            "_view_module": "@jupyter-widgets/base",
            "_view_module_version": "1.2.0",
            "_view_name": "LayoutView",
            "align_content": null,
            "align_items": null,
            "align_self": null,
            "border": null,
            "bottom": null,
            "display": null,
            "flex": null,
            "flex_flow": null,
            "grid_area": null,
            "grid_auto_columns": null,
            "grid_auto_flow": null,
            "grid_auto_rows": null,
            "grid_column": null,
            "grid_gap": null,
            "grid_row": null,
            "grid_template_areas": null,
            "grid_template_columns": null,
            "grid_template_rows": null,
            "height": null,
            "justify_content": null,
            "justify_items": null,
            "left": null,
            "margin": null,
            "max_height": null,
            "max_width": null,
            "min_height": null,
            "min_width": null,
            "object_fit": null,
            "object_position": null,
            "order": null,
            "overflow": null,
            "overflow_x": null,
            "overflow_y": null,
            "padding": null,
            "right": null,
            "top": null,
            "visibility": null,
            "width": null
          }
        },
        "cce965d54e8745a29c5f6eab5f011d98": {
          "model_module": "@jupyter-widgets/controls",
          "model_name": "ProgressStyleModel",
          "model_module_version": "1.5.0",
          "state": {
            "_model_module": "@jupyter-widgets/controls",
            "_model_module_version": "1.5.0",
            "_model_name": "ProgressStyleModel",
            "_view_count": null,
            "_view_module": "@jupyter-widgets/base",
            "_view_module_version": "1.2.0",
            "_view_name": "StyleView",
            "bar_color": null,
            "description_width": ""
          }
        },
        "af7b6eab14d942c99a7eb79fcb41441e": {
          "model_module": "@jupyter-widgets/base",
          "model_name": "LayoutModel",
          "model_module_version": "1.2.0",
          "state": {
            "_model_module": "@jupyter-widgets/base",
            "_model_module_version": "1.2.0",
            "_model_name": "LayoutModel",
            "_view_count": null,
            "_view_module": "@jupyter-widgets/base",
            "_view_module_version": "1.2.0",
            "_view_name": "LayoutView",
            "align_content": null,
            "align_items": null,
            "align_self": null,
            "border": null,
            "bottom": null,
            "display": null,
            "flex": null,
            "flex_flow": null,
            "grid_area": null,
            "grid_auto_columns": null,
            "grid_auto_flow": null,
            "grid_auto_rows": null,
            "grid_column": null,
            "grid_gap": null,
            "grid_row": null,
            "grid_template_areas": null,
            "grid_template_columns": null,
            "grid_template_rows": null,
            "height": null,
            "justify_content": null,
            "justify_items": null,
            "left": null,
            "margin": null,
            "max_height": null,
            "max_width": null,
            "min_height": null,
            "min_width": null,
            "object_fit": null,
            "object_position": null,
            "order": null,
            "overflow": null,
            "overflow_x": null,
            "overflow_y": null,
            "padding": null,
            "right": null,
            "top": null,
            "visibility": null,
            "width": null
          }
        },
        "b9e8ffb89d744ab79d08f8a99a1cb17c": {
          "model_module": "@jupyter-widgets/controls",
          "model_name": "DescriptionStyleModel",
          "model_module_version": "1.5.0",
          "state": {
            "_model_module": "@jupyter-widgets/controls",
            "_model_module_version": "1.5.0",
            "_model_name": "DescriptionStyleModel",
            "_view_count": null,
            "_view_module": "@jupyter-widgets/base",
            "_view_module_version": "1.2.0",
            "_view_name": "StyleView",
            "description_width": ""
          }
        }
      }
    },
    "accelerator": "GPU"
  },
  "cells": [
    {
      "cell_type": "code",
      "execution_count": 1,
      "source": [
        "\n",
        "import torch\n",
        "import torchvision\n",
        "import numpy as np\n",
        "import matplotlib.pyplot as plt\n",
        "import torch.nn as nn\n",
        "import torch.nn.functional as F\n",
        "from torchvision.datasets import CIFAR10\n",
        "from torchvision.transforms import ToTensor\n",
        "from torchvision.utils import make_grid\n",
        "from torch.utils.data.dataloader import DataLoader\n",
        "from torch.utils.data import random_split\n",
        "%matplotlib inline"
      ],
      "outputs": [],
      "metadata": {
        "id": "X3zBpeuLY30z"
      }
    },
    {
      "cell_type": "code",
      "execution_count": 2,
      "source": [
        "dataset = CIFAR10(root='data/', download=True, transform=ToTensor())\n",
        "test_dataset = CIFAR10(root='data/', train=False, transform=ToTensor())"
      ],
      "outputs": [
        {
          "output_type": "stream",
          "name": "stdout",
          "text": [
            "Downloading https://www.cs.toronto.edu/~kriz/cifar-10-python.tar.gz to data/cifar-10-python.tar.gz\n"
          ]
        },
        {
          "output_type": "display_data",
          "data": {
            "text/plain": [
              "  0%|          | 0/170498071 [00:00<?, ?it/s]"
            ],
            "application/vnd.jupyter.widget-view+json": {
              "version_major": 2,
              "version_minor": 0,
              "model_id": "ff7de37679cc4c22842bb90de95f254d"
            }
          },
          "metadata": {}
        },
        {
          "output_type": "stream",
          "name": "stdout",
          "text": [
            "Extracting data/cifar-10-python.tar.gz to data/\n"
          ]
        }
      ],
      "metadata": {
        "id": "_lDbWPw1Urvt",
        "colab": {
          "base_uri": "https://localhost:8080/",
          "height": 84,
          "referenced_widgets": [
            "ff7de37679cc4c22842bb90de95f254d",
            "123e4bcf918b4e99b72a83d77e06bbad",
            "82307d2c25dc4ddeabccfe11bccaca51",
            "8b84b40f14fe48b18594ce6afa17ae0d",
            "654946f9f3c84be387c499febfa0f72a",
            "9e1648ae0850450f849368f63eab72d6",
            "631a1913c95145b9b01fd0ee3cfdd956",
            "4d2060b376fe4203950d9ceb04b95bc7",
            "cce965d54e8745a29c5f6eab5f011d98",
            "af7b6eab14d942c99a7eb79fcb41441e",
            "b9e8ffb89d744ab79d08f8a99a1cb17c"
          ]
        },
        "outputId": "03b36aae-ff1a-4404-82fb-d361e80b4f48"
      }
    },
    {
      "cell_type": "code",
      "execution_count": 3,
      "source": [
        "dataset_size = len(dataset)\n",
        "test_dataset_size = len(test_dataset)\n",
        "classes = dataset.classes\n",
        "img, label = dataset[0]"
      ],
      "outputs": [],
      "metadata": {
        "id": "bNluTPvUV-Qq"
      }
    },
    {
      "cell_type": "code",
      "execution_count": 4,
      "source": [
        "import matplotlib.pyplot as plt\n",
        "\n",
        "def show_example(img, label):\n",
        "    print('Label: ', dataset.classes[label], \"(\"+str(label)+\")\")\n",
        "    plt.imshow(img.permute(1, 2, 0))"
      ],
      "outputs": [],
      "metadata": {
        "id": "jhfg5btDd6Dg"
      }
    },
    {
      "cell_type": "code",
      "execution_count": 5,
      "source": [
        "val_size = 5000\n",
        "train_size = len(dataset) - val_size\n",
        "\n",
        "train_ds, val_ds = random_split(dataset, [train_size, val_size])\n",
        "len(train_ds), len(val_ds)"
      ],
      "outputs": [
        {
          "output_type": "execute_result",
          "data": {
            "text/plain": [
              "(45000, 5000)"
            ]
          },
          "metadata": {},
          "execution_count": 5
        }
      ],
      "metadata": {
        "id": "3VGIv7B8eNXi",
        "colab": {
          "base_uri": "https://localhost:8080/"
        },
        "outputId": "93fc481d-ce73-48a6-be57-9d2f4a4f80ee"
      }
    },
    {
      "cell_type": "code",
      "execution_count": 6,
      "source": [
        "from torch.utils.data.dataloader import DataLoader\n",
        "\n",
        "batch_size=128"
      ],
      "outputs": [],
      "metadata": {
        "id": "9d5JHWbteX1h"
      }
    },
    {
      "cell_type": "code",
      "execution_count": 7,
      "source": [
        "train_dl = DataLoader(train_ds, batch_size, shuffle=True, num_workers=4, pin_memory=True)\n",
        "val_dl = DataLoader(val_ds, batch_size*2, num_workers=4, pin_memory=True)"
      ],
      "outputs": [
        {
          "output_type": "stream",
          "name": "stderr",
          "text": [
            "/usr/local/lib/python3.7/dist-packages/torch/utils/data/dataloader.py:481: UserWarning: This DataLoader will create 4 worker processes in total. Our suggested max number of worker in current system is 2, which is smaller than what this DataLoader is going to create. Please be aware that excessive worker creation might get DataLoader running slow or even freeze, lower the worker number to avoid potential slowness/freeze if necessary.\n",
            "  cpuset_checked))\n"
          ]
        }
      ],
      "metadata": {
        "id": "NlO-flsOeZOO",
        "colab": {
          "base_uri": "https://localhost:8080/"
        },
        "outputId": "8bd66478-5bd6-45bd-b45a-edaa2d9858d5"
      }
    },
    {
      "cell_type": "code",
      "execution_count": 8,
      "source": [
        "from torchvision.utils import make_grid\n",
        "\n",
        "def show_batch(dl):\n",
        "    for images, labels in dl:\n",
        "        fig, ax = plt.subplots(figsize=(12, 6))\n",
        "        ax.set_xticks([]); ax.set_yticks([])\n",
        "        ax.imshow(make_grid(images, nrow=16).permute(1, 2, 0))\n",
        "        break"
      ],
      "outputs": [],
      "metadata": {
        "id": "SVPYWt1ded0x"
      }
    },
    {
      "cell_type": "code",
      "execution_count": 9,
      "source": [
        "def apply_kernel(image, kernel):\n",
        "    ri, ci = image.shape       \n",
        "    rk, ck = kernel.shape      \n",
        "    ro, co = ri-rk+1, ci-ck+1  \n",
        "    output = torch.zeros([ro, co])\n",
        "    for i in range(ro): \n",
        "        for j in range(co):\n",
        "            output[i,j] = torch.sum(image[i:i+rk,j:j+ck] * kernel)\n",
        "    return output"
      ],
      "outputs": [],
      "metadata": {
        "id": "r0vZrJFPeq3R"
      }
    },
    {
      "cell_type": "code",
      "execution_count": 10,
      "source": [
        "sample_image = torch.tensor([\n",
        "    [3, 3, 2, 1, 0], \n",
        "    [0, 0, 1, 3, 1], \n",
        "    [3, 1, 2, 2, 3], \n",
        "    [2, 0, 0, 2, 2], \n",
        "    [2, 0, 0, 0, 1]\n",
        "], dtype=torch.float32)\n",
        "\n",
        "sample_kernel = torch.tensor([\n",
        "    [0, 1, 2], \n",
        "    [2, 2, 0], \n",
        "    [0, 1, 2]\n",
        "], dtype=torch.float32)\n",
        "\n",
        "apply_kernel(sample_image, sample_kernel)"
      ],
      "outputs": [
        {
          "output_type": "execute_result",
          "data": {
            "text/plain": [
              "tensor([[12., 12., 17.],\n",
              "        [10., 17., 19.],\n",
              "        [ 9.,  6., 14.]])"
            ]
          },
          "metadata": {},
          "execution_count": 10
        }
      ],
      "metadata": {
        "id": "v3tqJyYRi7-f",
        "colab": {
          "base_uri": "https://localhost:8080/"
        },
        "outputId": "f1c67eee-20d0-4f18-a563-1dc73b4035e4"
      }
    },
    {
      "cell_type": "code",
      "execution_count": 11,
      "source": [
        "import torch.nn as nn\n",
        "import torch.nn.functional as F"
      ],
      "outputs": [],
      "metadata": {
        "id": "H0e5MLYYjVB-"
      }
    },
    {
      "cell_type": "code",
      "execution_count": 12,
      "source": [
        "simple_model = nn.Sequential(\n",
        "    nn.Conv2d(3, 8, kernel_size=3, stride=1, padding=1),\n",
        "    nn.MaxPool2d(2, 2)\n",
        ")"
      ],
      "outputs": [],
      "metadata": {
        "id": "oydkMH9RjYB6"
      }
    },
    {
      "cell_type": "code",
      "execution_count": 13,
      "source": [
        "for images, labels in train_dl:\n",
        "    print('images.shape:', images.shape)\n",
        "    out = simple_model(images)\n",
        "    print('out.shape:', out.shape)\n",
        "    break"
      ],
      "outputs": [
        {
          "output_type": "stream",
          "name": "stderr",
          "text": [
            "/usr/local/lib/python3.7/dist-packages/torch/utils/data/dataloader.py:481: UserWarning: This DataLoader will create 4 worker processes in total. Our suggested max number of worker in current system is 2, which is smaller than what this DataLoader is going to create. Please be aware that excessive worker creation might get DataLoader running slow or even freeze, lower the worker number to avoid potential slowness/freeze if necessary.\n",
            "  cpuset_checked))\n"
          ]
        },
        {
          "output_type": "stream",
          "name": "stdout",
          "text": [
            "images.shape: torch.Size([128, 3, 32, 32])\n",
            "out.shape: torch.Size([128, 8, 16, 16])\n"
          ]
        }
      ],
      "metadata": {
        "id": "GyYsEr-9jbsS",
        "colab": {
          "base_uri": "https://localhost:8080/"
        },
        "outputId": "32b397c6-4f48-40ce-b3e2-a4a67ac3563c"
      }
    },
    {
      "cell_type": "code",
      "execution_count": 14,
      "source": [
        "def accuracy(outputs, labels):\n",
        "    _, preds = torch.max(outputs, dim=1)\n",
        "    return torch.tensor(torch.sum(preds == labels).item() / len(preds))\n",
        "\n",
        "class ImageClassificationBase(nn.Module):\n",
        "    def training_step(self, batch):\n",
        "        images, labels = batch \n",
        "        out = self(images)                  \n",
        "        loss = F.cross_entropy(out, labels) \n",
        "        return loss\n",
        "    \n",
        "    def validation_step(self, batch):\n",
        "        images, labels = batch \n",
        "        out = self(images)                    \n",
        "        loss = F.cross_entropy(out, labels)   \n",
        "        acc = accuracy(out, labels)           \n",
        "        return {'val_loss': loss.detach(), 'val_acc': acc}\n",
        "        \n",
        "    def validation_epoch_end(self, outputs):\n",
        "        batch_losses = [x['val_loss'] for x in outputs]\n",
        "        epoch_loss = torch.stack(batch_losses).mean()   \n",
        "        batch_accs = [x['val_acc'] for x in outputs]\n",
        "        epoch_acc = torch.stack(batch_accs).mean()      \n",
        "        return {'val_loss': epoch_loss.item(), 'val_acc': epoch_acc.item()}\n",
        "    \n",
        "    def epoch_end(self, epoch, result):\n",
        "        print(\"Epoch [{}], train_loss: {:.4f}, val_loss: {:.4f}, val_acc: {:.4f}\".format(\n",
        "            epoch, result['train_loss'], result['val_loss'], result['val_acc']))"
      ],
      "outputs": [],
      "metadata": {
        "id": "8LfGdGUMkD1U"
      }
    },
    {
      "cell_type": "code",
      "execution_count": 15,
      "source": [
        "class Cifar10CnnModel(ImageClassificationBase):\n",
        "    def __init__(self):\n",
        "        super().__init__()\n",
        "        self.network = nn.Sequential(\n",
        "            nn.Conv2d(3, 32, kernel_size=3, padding=1),\n",
        "            nn.ReLU(),\n",
        "            nn.Conv2d(32, 64, kernel_size=3, stride=1, padding=1),\n",
        "            nn.ReLU(),\n",
        "            nn.MaxPool2d(2, 2), # output: 64 x 16 x 16\n",
        "\n",
        "            nn.Conv2d(64, 128, kernel_size=3, stride=1, padding=1),\n",
        "            nn.ReLU(),\n",
        "            nn.Conv2d(128, 128, kernel_size=3, stride=1, padding=1),\n",
        "            nn.ReLU(),\n",
        "            nn.MaxPool2d(2, 2), # output: 128 x 8 x 8\n",
        "\n",
        "            nn.Conv2d(128, 256, kernel_size=3, stride=1, padding=1),\n",
        "            nn.ReLU(),\n",
        "            nn.Conv2d(256, 256, kernel_size=3, stride=1, padding=1),\n",
        "            nn.ReLU(),\n",
        "            nn.MaxPool2d(2, 2), # output: 256 x 4 x 4\n",
        "\n",
        "            nn.Flatten(), \n",
        "            nn.Linear(256*4*4, 1024),\n",
        "            nn.ReLU(),\n",
        "            nn.Linear(1024, 512),\n",
        "            nn.ReLU(),\n",
        "            nn.Linear(512, 10))\n",
        "        \n",
        "    def forward(self, xb):\n",
        "        return self.network(xb)"
      ],
      "outputs": [],
      "metadata": {
        "id": "uBbOMGCskwUU"
      }
    },
    {
      "cell_type": "code",
      "execution_count": 16,
      "source": [
        "model = Cifar10CnnModel()\n",
        "model"
      ],
      "outputs": [
        {
          "output_type": "execute_result",
          "data": {
            "text/plain": [
              "Cifar10CnnModel(\n",
              "  (network): Sequential(\n",
              "    (0): Conv2d(3, 32, kernel_size=(3, 3), stride=(1, 1), padding=(1, 1))\n",
              "    (1): ReLU()\n",
              "    (2): Conv2d(32, 64, kernel_size=(3, 3), stride=(1, 1), padding=(1, 1))\n",
              "    (3): ReLU()\n",
              "    (4): MaxPool2d(kernel_size=2, stride=2, padding=0, dilation=1, ceil_mode=False)\n",
              "    (5): Conv2d(64, 128, kernel_size=(3, 3), stride=(1, 1), padding=(1, 1))\n",
              "    (6): ReLU()\n",
              "    (7): Conv2d(128, 128, kernel_size=(3, 3), stride=(1, 1), padding=(1, 1))\n",
              "    (8): ReLU()\n",
              "    (9): MaxPool2d(kernel_size=2, stride=2, padding=0, dilation=1, ceil_mode=False)\n",
              "    (10): Conv2d(128, 256, kernel_size=(3, 3), stride=(1, 1), padding=(1, 1))\n",
              "    (11): ReLU()\n",
              "    (12): Conv2d(256, 256, kernel_size=(3, 3), stride=(1, 1), padding=(1, 1))\n",
              "    (13): ReLU()\n",
              "    (14): MaxPool2d(kernel_size=2, stride=2, padding=0, dilation=1, ceil_mode=False)\n",
              "    (15): Flatten(start_dim=1, end_dim=-1)\n",
              "    (16): Linear(in_features=4096, out_features=1024, bias=True)\n",
              "    (17): ReLU()\n",
              "    (18): Linear(in_features=1024, out_features=512, bias=True)\n",
              "    (19): ReLU()\n",
              "    (20): Linear(in_features=512, out_features=10, bias=True)\n",
              "  )\n",
              ")"
            ]
          },
          "metadata": {},
          "execution_count": 16
        }
      ],
      "metadata": {
        "id": "ZPCLiIR0k0iw",
        "colab": {
          "base_uri": "https://localhost:8080/"
        },
        "outputId": "11f4a443-d0a6-4293-967d-43749848733a"
      }
    },
    {
      "cell_type": "code",
      "execution_count": 17,
      "source": [
        "for images, labels in train_dl:\n",
        "    print('images.shape:', images.shape)\n",
        "    out = model(images)\n",
        "    print('out.shape:', out.shape)\n",
        "    print('out[0]:', out[0])\n",
        "    break"
      ],
      "outputs": [
        {
          "output_type": "stream",
          "name": "stderr",
          "text": [
            "/usr/local/lib/python3.7/dist-packages/torch/utils/data/dataloader.py:481: UserWarning: This DataLoader will create 4 worker processes in total. Our suggested max number of worker in current system is 2, which is smaller than what this DataLoader is going to create. Please be aware that excessive worker creation might get DataLoader running slow or even freeze, lower the worker number to avoid potential slowness/freeze if necessary.\n",
            "  cpuset_checked))\n"
          ]
        },
        {
          "output_type": "stream",
          "name": "stdout",
          "text": [
            "images.shape: torch.Size([128, 3, 32, 32])\n",
            "out.shape: torch.Size([128, 10])\n",
            "out[0]: tensor([ 0.0267,  0.0254, -0.0077,  0.0524,  0.0171,  0.0128, -0.0516, -0.0241,\n",
            "        -0.0143,  0.0149], grad_fn=<SelectBackward0>)\n"
          ]
        }
      ],
      "metadata": {
        "id": "hXziJap6k3Lt",
        "colab": {
          "base_uri": "https://localhost:8080/"
        },
        "outputId": "965c0c04-92e8-42e9-e7cc-aefb37f94ba0"
      }
    },
    {
      "cell_type": "code",
      "execution_count": 18,
      "source": [
        "def get_default_device():\n",
        "    \"\"\"Pick GPU if available, else CPU\"\"\"\n",
        "    if torch.cuda.is_available():\n",
        "        return torch.device('cuda')\n",
        "    else:\n",
        "        return torch.device('cpu')\n",
        "    \n",
        "def to_device(data, device):\n",
        "    \"\"\"Move tensor(s) to chosen device\"\"\"\n",
        "    if isinstance(data, (list,tuple)):\n",
        "        return [to_device(x, device) for x in data]\n",
        "    return data.to(device, non_blocking=True)\n",
        "\n",
        "class DeviceDataLoader():\n",
        "    \"\"\"Wrap a dataloader to move data to a device\"\"\"\n",
        "    def __init__(self, dl, device):\n",
        "        self.dl = dl\n",
        "        self.device = device\n",
        "        \n",
        "    def __iter__(self):\n",
        "        \"\"\"Yield a batch of data after moving it to device\"\"\"\n",
        "        for b in self.dl: \n",
        "            yield to_device(b, self.device)\n",
        "\n",
        "    def __len__(self):\n",
        "        \"\"\"Number of batches\"\"\"\n",
        "        return len(self.dl)"
      ],
      "outputs": [],
      "metadata": {
        "id": "-KmXxqNwk8dB"
      }
    },
    {
      "cell_type": "code",
      "execution_count": 19,
      "source": [
        "device = get_default_device()"
      ],
      "outputs": [],
      "metadata": {
        "id": "yk7zEKD7lQ0y"
      }
    },
    {
      "cell_type": "code",
      "execution_count": 20,
      "source": [
        "train_dl = DeviceDataLoader(train_dl, device)\n",
        "val_dl = DeviceDataLoader(val_dl, device)\n",
        "to_device(model, device);"
      ],
      "outputs": [],
      "metadata": {
        "id": "rAcAvpfvlUbG"
      }
    },
    {
      "cell_type": "code",
      "execution_count": 21,
      "source": [
        "@torch.no_grad()\n",
        "def evaluate(model, val_loader):\n",
        "    model.eval()\n",
        "    outputs = [model.validation_step(batch) for batch in val_loader]\n",
        "    return model.validation_epoch_end(outputs)\n",
        "\n",
        "def fit(epochs, lr, model, train_loader, val_loader, opt_func=torch.optim.SGD):\n",
        "    history = []\n",
        "    optimizer = opt_func(model.parameters(), lr)\n",
        "    for epoch in range(epochs):\n",
        "        # Training Phase \n",
        "        model.train()\n",
        "        train_losses = []\n",
        "        for batch in train_loader:\n",
        "            loss = model.training_step(batch)\n",
        "            train_losses.append(loss)\n",
        "            loss.backward()\n",
        "            optimizer.step()\n",
        "            optimizer.zero_grad()\n",
        "        # Validation phase\n",
        "        result = evaluate(model, val_loader)\n",
        "        result['train_loss'] = torch.stack(train_losses).mean().item()\n",
        "        model.epoch_end(epoch, result)\n",
        "        history.append(result)\n",
        "    return history"
      ],
      "outputs": [],
      "metadata": {
        "id": "NJLptIcylaSm"
      }
    },
    {
      "cell_type": "code",
      "execution_count": 22,
      "source": [
        "model = to_device(Cifar10CnnModel(), device)"
      ],
      "outputs": [],
      "metadata": {
        "id": "IGHvh_dilksM"
      }
    },
    {
      "cell_type": "code",
      "execution_count": 23,
      "source": [
        "evaluate(model, val_dl)"
      ],
      "outputs": [
        {
          "output_type": "stream",
          "name": "stderr",
          "text": [
            "/usr/local/lib/python3.7/dist-packages/torch/utils/data/dataloader.py:481: UserWarning: This DataLoader will create 4 worker processes in total. Our suggested max number of worker in current system is 2, which is smaller than what this DataLoader is going to create. Please be aware that excessive worker creation might get DataLoader running slow or even freeze, lower the worker number to avoid potential slowness/freeze if necessary.\n",
            "  cpuset_checked))\n"
          ]
        },
        {
          "output_type": "execute_result",
          "data": {
            "text/plain": [
              "{'val_acc': 0.1024586409330368, 'val_loss': 2.303199529647827}"
            ]
          },
          "metadata": {},
          "execution_count": 23
        }
      ],
      "metadata": {
        "id": "0b7e2N67lobO",
        "colab": {
          "base_uri": "https://localhost:8080/"
        },
        "outputId": "f2db0392-c6b8-4a5b-df03-58649bdc8431"
      }
    },
    {
      "cell_type": "code",
      "execution_count": 24,
      "source": [
        "num_epochs = 10\n",
        "opt_func = torch.optim.Adam\n",
        "lr = 0.001"
      ],
      "outputs": [],
      "metadata": {
        "id": "JgyvoasNl5Or"
      }
    },
    {
      "cell_type": "code",
      "execution_count": 25,
      "source": [
        "history = fit(num_epochs, lr, model, train_dl, val_dl, opt_func)"
      ],
      "outputs": [
        {
          "output_type": "stream",
          "name": "stderr",
          "text": [
            "/usr/local/lib/python3.7/dist-packages/torch/utils/data/dataloader.py:481: UserWarning: This DataLoader will create 4 worker processes in total. Our suggested max number of worker in current system is 2, which is smaller than what this DataLoader is going to create. Please be aware that excessive worker creation might get DataLoader running slow or even freeze, lower the worker number to avoid potential slowness/freeze if necessary.\n",
            "  cpuset_checked))\n"
          ]
        },
        {
          "output_type": "stream",
          "name": "stdout",
          "text": [
            "Epoch [0], train_loss: 1.8964, val_loss: 1.4878, val_acc: 0.4328\n",
            "Epoch [1], train_loss: 1.3087, val_loss: 1.1374, val_acc: 0.5944\n",
            "Epoch [2], train_loss: 1.0306, val_loss: 0.9448, val_acc: 0.6541\n",
            "Epoch [3], train_loss: 0.8631, val_loss: 0.8713, val_acc: 0.6938\n",
            "Epoch [4], train_loss: 0.7293, val_loss: 0.8035, val_acc: 0.7202\n",
            "Epoch [5], train_loss: 0.6205, val_loss: 0.7461, val_acc: 0.7426\n",
            "Epoch [6], train_loss: 0.5327, val_loss: 0.7770, val_acc: 0.7399\n",
            "Epoch [7], train_loss: 0.4537, val_loss: 0.7424, val_acc: 0.7658\n",
            "Epoch [8], train_loss: 0.3647, val_loss: 0.8059, val_acc: 0.7519\n",
            "Epoch [9], train_loss: 0.2992, val_loss: 0.7810, val_acc: 0.7698\n"
          ]
        }
      ],
      "metadata": {
        "id": "fcJizjWEl7fd",
        "colab": {
          "base_uri": "https://localhost:8080/"
        },
        "outputId": "d61684e8-4ff3-4a06-c14c-95b9afcef455"
      }
    },
    {
      "cell_type": "code",
      "execution_count": 26,
      "source": [
        "def plot_accuracies(history):\n",
        "    accuracies = [x['val_acc'] for x in history]\n",
        "    plt.plot(accuracies, '-x')\n",
        "    plt.xlabel('epoch')\n",
        "    plt.ylabel('accuracy')\n",
        "    plt.title('Accuracy vs. No. of epochs');"
      ],
      "outputs": [],
      "metadata": {
        "id": "BxMumHF-spWQ"
      }
    },
    {
      "cell_type": "code",
      "execution_count": 27,
      "source": [
        "plot_accuracies(history)"
      ],
      "outputs": [
        {
          "output_type": "display_data",
          "data": {
            "text/plain": [
              "<Figure size 432x288 with 1 Axes>"
            ],
            "image/png": "[encoded data removed]"
          },
          "metadata": {
            "needs_background": "light"
          }
        }
      ],
      "metadata": {
        "id": "XWDhrMH5swMv",
        "colab": {
          "base_uri": "https://localhost:8080/",
          "height": 295
        },
        "outputId": "7d4311ef-d70b-41b2-bbab-a918f859e955"
      }
    },
    {
      "cell_type": "code",
      "execution_count": 28,
      "source": [
        "def plot_losses(history):\n",
        "    train_losses = [x.get('train_loss') for x in history]\n",
        "    val_losses = [x['val_loss'] for x in history]\n",
        "    plt.plot(train_losses, '-bx')\n",
        "    plt.plot(val_losses, '-rx')\n",
        "    plt.xlabel('epoch')\n",
        "    plt.ylabel('loss')\n",
        "    plt.legend(['Training', 'Validation'])\n",
        "    plt.title('Loss vs. No. of epochs');"
      ],
      "outputs": [],
      "metadata": {
        "id": "4ZXB5WTjsy_j"
      }
    },
    {
      "cell_type": "code",
      "execution_count": 29,
      "source": [
        "plot_losses(history)"
      ],
      "outputs": [
        {
          "output_type": "display_data",
          "data": {
            "text/plain": [
              "<Figure size 432x288 with 1 Axes>"
            ],
            "image/png": "[encoded data removed]"
          },
          "metadata": {
            "needs_background": "light"
          }
        }
      ],
      "metadata": {
        "id": "6wmLDP7fs4Gl",
        "colab": {
          "base_uri": "https://localhost:8080/",
          "height": 295
        },
        "outputId": "804443ca-7a05-417a-a918-2b429512e444"
      }
    },
    {
      "cell_type": "code",
      "execution_count": 30,
      "source": [
        "def predict_image(img, model):\n",
        "    # Convert to a batch of 1\n",
        "    xb = to_device(img.unsqueeze(0), device)\n",
        "    # Get predictions from model\n",
        "    yb = model(xb)\n",
        "    # Pick index with highest probability\n",
        "    _, preds  = torch.max(yb, dim=1)\n",
        "    # Retrieve the class label\n",
        "    return dataset.classes[preds[0].item()]"
      ],
      "outputs": [],
      "metadata": {
        "id": "8x4bv7qjtIjU"
      }
    },
    {
      "cell_type": "code",
      "execution_count": 31,
      "source": [
        "test_loader = DeviceDataLoader(DataLoader(test_dataset, batch_size*2), device)\n",
        "result = evaluate(model, test_loader)\n",
        "result"
      ],
      "outputs": [
        {
          "output_type": "execute_result",
          "data": {
            "text/plain": [
              "{'val_acc': 0.755078136920929, 'val_loss': 0.8228020668029785}"
            ]
          },
          "metadata": {},
          "execution_count": 31
        }
      ],
      "metadata": {
        "id": "_T1ouPyUt1NQ",
        "colab": {
          "base_uri": "https://localhost:8080/"
        },
        "outputId": "b9538788-1ec0-4691-b0d8-b876a0976d13"
      }
    },
    {
      "cell_type": "code",
      "execution_count": 32,
      "source": [
        "# Saving and Loading the model"
      ],
      "outputs": [],
      "metadata": {
        "id": "l4wnP96huAoY"
      }
    },
    {
      "cell_type": "code",
      "execution_count": 33,
      "source": [
        "torch.save(model.state_dict(), 'cifar10-cnn.pth')"
      ],
      "outputs": [],
      "metadata": {
        "id": "vxp81uUAuC5C"
      }
    },
    {
      "cell_type": "code",
      "execution_count": 34,
      "source": [
        "model2 = to_device(Cifar10CnnModel(), device)"
      ],
      "outputs": [],
      "metadata": {
        "id": "3cjcA5IHuJrF"
      }
    },
    {
      "cell_type": "code",
      "execution_count": 35,
      "source": [
        "model2.load_state_dict(torch.load('cifar10-cnn.pth'))"
      ],
      "outputs": [
        {
          "output_type": "execute_result",
          "data": {
            "text/plain": [
              "<All keys matched successfully>"
            ]
          },
          "metadata": {},
          "execution_count": 35
        }
      ],
      "metadata": {
        "id": "Hl6lI-9NuNbR",
        "colab": {
          "base_uri": "https://localhost:8080/"
        },
        "outputId": "e601fbd2-af8f-4954-af1e-5d5a88559234"
      }
    },
    {
      "cell_type": "code",
      "execution_count": 36,
      "source": [
        "evaluate(model2, test_loader)"
      ],
      "outputs": [
        {
          "output_type": "execute_result",
          "data": {
            "text/plain": [
              "{'val_acc': 0.755078136920929, 'val_loss': 0.8228020668029785}"
            ]
          },
          "metadata": {},
          "execution_count": 36
        }
      ],
      "metadata": {
        "id": "H7uvrDVquUlh",
        "colab": {
          "base_uri": "https://localhost:8080/"
        },
        "outputId": "f7673bb7-8573-447c-cd4b-6c2708a9e9da"
      }
    }
  ]
}